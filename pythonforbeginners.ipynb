{
  "nbformat": 4,
  "nbformat_minor": 0,
  "metadata": {
    "colab": {
      "provenance": [],
      "authorship_tag": "ABX9TyOHjBeJRa+WBpV4zZLfnWTR",
      "include_colab_link": true
    },
    "kernelspec": {
      "name": "python3",
      "display_name": "Python 3"
    },
    "language_info": {
      "name": "python"
    }
  },
  "cells": [
    {
      "cell_type": "markdown",
      "metadata": {
        "id": "view-in-github",
        "colab_type": "text"
      },
      "source": [
        "<a href=\"https://colab.research.google.com/github/chaninthebuilding/chaninthebuilding/blob/main/pythonforbeginners.ipynb\" target=\"_parent\"><img src=\"https://colab.research.google.com/assets/colab-badge.svg\" alt=\"Open In Colab\"/></a>"
      ]
    },
    {
      "cell_type": "code",
      "source": [
        "birth_year = input('birth_year: ')\n",
        "print(type(birth_year))\n",
        "age = 2023 - int(birth_year)\n",
        "print(type(age))\n",
        "print('age=',age)"
      ],
      "metadata": {
        "id": "mtE_ac7JWzGy",
        "colab": {
          "base_uri": "https://localhost:8080/"
        },
        "outputId": "357f7fa6-f864-4e7e-dd18-216a2eb09c4f"
      },
      "execution_count": null,
      "outputs": [
        {
          "output_type": "stream",
          "name": "stdout",
          "text": [
            "birth_year: 2005\n",
            "<class 'str'>\n",
            "<class 'int'>\n",
            "age= 18\n"
          ]
        }
      ]
    },
    {
      "cell_type": "code",
      "execution_count": null,
      "metadata": {
        "colab": {
          "base_uri": "https://localhost:8080/"
        },
        "id": "FhpOePluWGcD",
        "outputId": "c5e5b634-28af-41e8-af06-bc21a1337b7a"
      },
      "outputs": [
        {
          "output_type": "stream",
          "name": "stdout",
          "text": [
            "20\n"
          ]
        }
      ],
      "source": [
        "price=10\n",
        "price=20\n",
        "rating=4.9\n",
        "name='chan'\n",
        "is_published=False\n",
        "print(price)"
      ]
    },
    {
      "cell_type": "code",
      "source": [
        "birth_year = input('birth_year: ')\n",
        "print(type(birth_year))\n",
        "age = 2023 - int(birth_year)\n",
        "print(type(age))\n",
        "print(age)"
      ],
      "metadata": {
        "colab": {
          "base_uri": "https://localhost:8080/"
        },
        "id": "LsqNeJUmjP7x",
        "outputId": "3c208f1e-46ee-4034-c1eb-8870a28b68e2"
      },
      "execution_count": null,
      "outputs": [
        {
          "output_type": "stream",
          "name": "stdout",
          "text": [
            "birth_year: 1999\n",
            "<class 'str'>\n",
            "<class 'int'>\n",
            "24\n"
          ]
        }
      ]
    },
    {
      "cell_type": "code",
      "source": [
        "pound_weight = input(\"pound weight: \")\n",
        "print(type(pound_weight))\n",
        "kilo_weight = 0.453592 * int(pound_weight)\n",
        "print(type(pound_weight))\n",
        "print(kilo_weight)"
      ],
      "metadata": {
        "colab": {
          "base_uri": "https://localhost:8080/"
        },
        "id": "gZa7qOCIkCdf",
        "outputId": "6da210f5-e274-4c5b-f8b8-b5b257d899f1"
      },
      "execution_count": null,
      "outputs": [
        {
          "output_type": "stream",
          "name": "stdout",
          "text": [
            "pound weight: 100\n",
            "<class 'str'>\n",
            "<class 'str'>\n",
            "45.3592\n"
          ]
        }
      ]
    },
    {
      "cell_type": "code",
      "source": [
        "print('hello world')"
      ],
      "metadata": {
        "id": "yWFz3GcYeIiv",
        "colab": {
          "base_uri": "https://localhost:8080/"
        },
        "outputId": "8e5cfe7a-925e-45a0-d22e-ef2ef9c5c63f"
      },
      "execution_count": null,
      "outputs": [
        {
          "output_type": "stream",
          "name": "stdout",
          "text": [
            "hello world\n"
          ]
        }
      ]
    },
    {
      "cell_type": "code",
      "source": [
        "course=\"python for begginer's\"\n",
        "print(course)\n",
        "course='python for \"beginners\"'\n",
        "print(course)"
      ],
      "metadata": {
        "colab": {
          "base_uri": "https://localhost:8080/"
        },
        "id": "KG0Bp9Xe3Wkp",
        "outputId": "7da146f0-8cea-4767-dc8d-fa48fe2e4693"
      },
      "execution_count": null,
      "outputs": [
        {
          "output_type": "stream",
          "name": "stdout",
          "text": [
            "python for begginer's\n",
            "python for \"beginners\"\n"
          ]
        }
      ]
    },
    {
      "cell_type": "code",
      "source": [
        "course='python for beginners'\n",
        "print(course[0])"
      ],
      "metadata": {
        "colab": {
          "base_uri": "https://localhost:8080/"
        },
        "id": "5z0lYvrC34hH",
        "outputId": "7310c987-dcfc-4a7c-e14d-cb51d5a6a8fe"
      },
      "execution_count": null,
      "outputs": [
        {
          "output_type": "stream",
          "name": "stdout",
          "text": [
            "p\n"
          ]
        }
      ]
    },
    {
      "cell_type": "code",
      "source": [
        "course='python for beginners'\n",
        "print(course[-2])"
      ],
      "metadata": {
        "colab": {
          "base_uri": "https://localhost:8080/"
        },
        "id": "R9FDzUdM9Dvg",
        "outputId": "a0010b70-ca96-4114-f751-c1d5f9fcb797"
      },
      "execution_count": null,
      "outputs": [
        {
          "output_type": "stream",
          "name": "stdout",
          "text": [
            "r\n"
          ]
        }
      ]
    },
    {
      "cell_type": "code",
      "source": [
        "course='python for beginners'\n",
        "print(course[1:])"
      ],
      "metadata": {
        "colab": {
          "base_uri": "https://localhost:8080/"
        },
        "id": "vwYCrP0W_lup",
        "outputId": "88d63f5f-e6d0-4470-a8e4-3052af909e8c"
      },
      "execution_count": null,
      "outputs": [
        {
          "output_type": "stream",
          "name": "stdout",
          "text": [
            "ython for beginners\n"
          ]
        }
      ]
    },
    {
      "cell_type": "code",
      "source": [
        "course='python for beginners'\n",
        "another=course[:]\n",
        "print(another)"
      ],
      "metadata": {
        "colab": {
          "base_uri": "https://localhost:8080/"
        },
        "id": "3dcX0R3sDK7s",
        "outputId": "83f593fb-eb09-44c9-9bef-7119615fa3a8"
      },
      "execution_count": null,
      "outputs": [
        {
          "output_type": "stream",
          "name": "stdout",
          "text": [
            "python for beginners\n"
          ]
        }
      ]
    },
    {
      "cell_type": "code",
      "source": [],
      "metadata": {
        "id": "DD3CfK_JDZQw"
      },
      "execution_count": null,
      "outputs": []
    }
  ]
}